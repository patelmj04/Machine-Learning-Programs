{
  "cells": [
    {
      "cell_type": "markdown",
      "metadata": {},
      "source": [
        "A3_44\n",
        "Mit patel\n",
        "Practical_1\n"
      ]
    },
    {
      "cell_type": "code",
      "execution_count": null,
      "metadata": {},
      "outputs": [],
      "source": [
        "#prac 1\n",
        "#<xi,yi>\n",
        "#xi = features, yi = class lable"
      ]
    },
    {
      "cell_type": "code",
      "execution_count": null,
      "metadata": {
        "id": "ys3zNeHybkmz"
      },
      "outputs": [],
      "source": [
        "import pandas as pd\n"
      ]
    },
    {
      "cell_type": "code",
      "execution_count": null,
      "metadata": {
        "id": "Cw7DGNsxizEK"
      },
      "outputs": [],
      "source": [
        "df = pd.read_csv(\"/content/ENJOYSPORT.csv\")"
      ]
    },
    {
      "cell_type": "code",
      "execution_count": null,
      "metadata": {
        "colab": {
          "base_uri": "https://localhost:8080/"
        },
        "id": "TmQeAlJUjBYS",
        "outputId": "f6489b56-d7f8-497b-fd7e-b52b035638d3"
      },
      "outputs": [
        {
          "name": "stdout",
          "output_type": "stream",
          "text": [
            "     Sky AirTemp Humidity    Wind Water Forecast  EnjoySport\n",
            "0  Sunny    Warm   Normal  Strong  Warm     Same           1\n",
            "1  Sunny    Warm     High  Strong  Warm     Same           1\n",
            "2  Rainy    Cold     High  Strong  Warm   Change           0\n",
            "3  Sunny    Warm     High  Strong  Cool   Change           1\n"
          ]
        }
      ],
      "source": [
        "print(df)"
      ]
    },
    {
      "cell_type": "code",
      "execution_count": null,
      "metadata": {
        "id": "G-cmAAN_jC0C"
      },
      "outputs": [],
      "source": []
    },
    {
      "cell_type": "code",
      "execution_count": null,
      "metadata": {
        "colab": {
          "base_uri": "https://localhost:8080/"
        },
        "id": "V67CL0HCjMrS",
        "outputId": "4922c172-96c1-4043-c3a1-1f7b4684f1f5"
      },
      "outputs": [
        {
          "name": "stdout",
          "output_type": "stream",
          "text": [
            "4\n"
          ]
        }
      ],
      "source": [
        "print(len(df))"
      ]
    },
    {
      "cell_type": "code",
      "execution_count": null,
      "metadata": {
        "id": "v6QFYAwFn-L1"
      },
      "outputs": [],
      "source": [
        "import numpy as np"
      ]
    },
    {
      "cell_type": "code",
      "execution_count": null,
      "metadata": {
        "id": "S-T6BpXQnYcD"
      },
      "outputs": [],
      "source": [
        "concept = np.array(df)[:,:-1]"
      ]
    },
    {
      "cell_type": "code",
      "execution_count": null,
      "metadata": {
        "colab": {
          "base_uri": "https://localhost:8080/"
        },
        "id": "xdN4s_kCkVu6",
        "outputId": "8f8315f8-b4ae-4e5f-93e3-8d7fa29b791c"
      },
      "outputs": [
        {
          "name": "stdout",
          "output_type": "stream",
          "text": [
            "['Sunny' 'Warm' 'Normal' 'Strong' 'Warm' 'Same']\n",
            "['Sunny' 'Warm' 'High' 'Strong' 'Warm' 'Same']\n",
            "['Rainy' 'Cold' 'High' 'Strong' 'Warm' 'Change']\n",
            "['Sunny' 'Warm' 'High' 'Strong' 'Cool' 'Change']\n"
          ]
        }
      ],
      "source": [
        "for i in range(len(concept)):\n",
        "  print(concept[i])"
      ]
    },
    {
      "cell_type": "code",
      "execution_count": null,
      "metadata": {
        "colab": {
          "base_uri": "https://localhost:8080/"
        },
        "id": "VWyoI_f9ouJU",
        "outputId": "751b6612-dd61-457e-ba09-09b3f264550a"
      },
      "outputs": [
        {
          "name": "stdout",
          "output_type": "stream",
          "text": [
            "['Sunny' 'Warm' 'High' 'Strong' 'Warm' 'Same']\n"
          ]
        }
      ],
      "source": [
        "print(concept[1])"
      ]
    },
    {
      "cell_type": "code",
      "execution_count": null,
      "metadata": {
        "colab": {
          "base_uri": "https://localhost:8080/"
        },
        "id": "wZVaL-2SnX20",
        "outputId": "638fa3c6-8144-4d89-800e-8660c35d8af8"
      },
      "outputs": [
        {
          "name": "stdout",
          "output_type": "stream",
          "text": [
            "[1 1 0 1]\n"
          ]
        }
      ],
      "source": [
        "target =  np.array(df)[:,-1]\n",
        "print(target)"
      ]
    },
    {
      "cell_type": "code",
      "execution_count": null,
      "metadata": {
        "colab": {
          "base_uri": "https://localhost:8080/"
        },
        "id": "hfPXGtKqkwDY",
        "outputId": "db0569db-830c-478a-ccdd-3d0e8246babb"
      },
      "outputs": [
        {
          "name": "stdout",
          "output_type": "stream",
          "text": [
            "['Sunny' 'Warm' '?' 'Strong' '?' '?']\n"
          ]
        }
      ],
      "source": [
        "def finds(concept,target):\n",
        "  h = ['0']*6\n",
        "  for i in range(len(concept)):\n",
        "    if target[i]:\n",
        "      if h[0] == '0':\n",
        "        h = concept[i]\n",
        "\n",
        "      else:\n",
        "        for j in range(len(h)):\n",
        "          if h[j] != concept[i][j]:\n",
        "            h[j] = '?'\n",
        "\n",
        "\n",
        "  return h\n",
        "\n",
        "res=finds(concept,target)\n",
        "print(res)"
      ]
    },
    {
      "cell_type": "code",
      "execution_count": null,
      "metadata": {
        "id": "UidEOJARo2hK"
      },
      "outputs": [],
      "source": [
        "\n"
      ]
    },
    {
      "cell_type": "code",
      "execution_count": null,
      "metadata": {
        "id": "cqOzVa7eo7CD"
      },
      "outputs": [],
      "source": []
    }
  ],
  "metadata": {
    "colab": {
      "provenance": []
    },
    "kernelspec": {
      "display_name": "Python 3",
      "name": "python3"
    },
    "language_info": {
      "name": "python"
    }
  },
  "nbformat": 4,
  "nbformat_minor": 0
}
